{
 "cells": [
  {
   "cell_type": "code",
   "execution_count": 1,
   "metadata": {},
   "outputs": [],
   "source": [
    "import DivPopGa.ClusteredGa as CLGA"
   ]
  },
  {
   "cell_type": "code",
   "execution_count": 2,
   "metadata": {},
   "outputs": [
    {
     "data": {
      "text/plain": [
       "f (generic function with 1 method)"
      ]
     },
     "execution_count": 2,
     "metadata": {},
     "output_type": "execute_result"
    }
   ],
   "source": [
    "# Minimization of two variable function\n",
    "# f(x, y) = |x - pi| + |y - exp(1)|\n",
    "function f(values::Array{Float64, 1})::Float64\n",
    "    return abs(values[1] - 3.14159265) + abs(values[2] - 2.71828)\n",
    "end"
   ]
  },
  {
   "cell_type": "code",
   "execution_count": 5,
   "metadata": {},
   "outputs": [
    {
     "data": {
      "text/plain": [
       "(::DivPopGa.ClusteredGa.var\"#tmpfn#5\"{Float64, Float64}) (generic function with 1 method)"
      ]
     },
     "execution_count": 5,
     "metadata": {},
     "output_type": "execute_result"
    }
   ],
   "source": [
    "# Lower and upper bounds\n",
    "lower        = [-100.0, -100.0]\n",
    "upper        = [100.0,  100.0]\n",
    "\n",
    "popsize      = 100\n",
    "generations  = 500 \n",
    "num_elitists = 2\n",
    "\n",
    "costfn    = f\n",
    "\n",
    "# Create a crossover function\n",
    "crossfn   = CLGA.makelinearcrossover(costfn)\n",
    "\n",
    "# Create a mutation function\n",
    "mutatefn  = CLGA.makenormalmutation(1.0, 0.01) "
   ]
  },
  {
   "cell_type": "code",
   "execution_count": 6,
   "metadata": {},
   "outputs": [
    {
     "name": "stdout",
     "output_type": "stream",
     "text": [
      "DivPopGa.ClusteredGa.Chromosome([3.14159265, 2.71828], 0.0, 1)"
     ]
    }
   ],
   "source": [
    "result_hybrid = CLGA.hybridga(\n",
    "    popsize,        # popsize\n",
    "    [generations, generations],       # generations \n",
    "    lower,      # lower bounds\n",
    "    upper,      # upper bounds\n",
    "    costfn,     # cost function\n",
    "    crossfn,    # crossover function\n",
    "    mutatefn,   # mutation function\n",
    "    elitism = num_elitists)\n",
    "\n",
    "print(result_hybrid[1])"
   ]
  },
  {
   "cell_type": "code",
   "execution_count": null,
   "metadata": {},
   "outputs": [],
   "source": []
  }
 ],
 "metadata": {
  "kernelspec": {
   "display_name": "Julia 1.6.3",
   "language": "julia",
   "name": "julia-1.6"
  },
  "language_info": {
   "file_extension": ".jl",
   "mimetype": "application/julia",
   "name": "julia",
   "version": "1.6.3"
  }
 },
 "nbformat": 4,
 "nbformat_minor": 4
}
