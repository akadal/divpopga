{
 "cells": [
  {
   "cell_type": "code",
   "execution_count": 23,
   "metadata": {},
   "outputs": [],
   "source": [
    "import DivPopGa.ClusteredGa as CLGA"
   ]
  },
  {
   "cell_type": "code",
   "execution_count": 24,
   "metadata": {},
   "outputs": [
    {
     "data": {
      "text/plain": [
       "f (generic function with 1 method)"
      ]
     },
     "execution_count": 24,
     "metadata": {},
     "output_type": "execute_result"
    }
   ],
   "source": [
    "function f(values::Array{Float64, 1})::Float64\n",
    "    return abs(values[1] - 3.14159265) + abs(values[2] - 2.71828)\n",
    "end"
   ]
  },
  {
   "cell_type": "code",
   "execution_count": 25,
   "metadata": {},
   "outputs": [
    {
     "data": {
      "text/plain": [
       "chichinadze (generic function with 1 method)"
      ]
     },
     "execution_count": 25,
     "metadata": {},
     "output_type": "execute_result"
    }
   ],
   "source": [
    "function chichinadze(x::Array{Float64, 1})::Float64\n",
    "    x[1] * x[1] - 12.0 * x[1] + 11.0 + 10.0 * cos(0.5 * pi * x[1]) + 8.0 * sin(2.0 * pi * x[1]) - 0.2 * sqrt(5) / exp(0.5 * (x[2] - 0.5)^2.0)  \n",
    "end"
   ]
  },
  {
   "cell_type": "code",
   "execution_count": 26,
   "metadata": {},
   "outputs": [
    {
     "data": {
      "text/plain": [
       "(::DivPopGa.ClusteredGa.var\"#tmpfn#2\"{Float64, Float64}) (generic function with 1 method)"
      ]
     },
     "execution_count": 26,
     "metadata": {},
     "output_type": "execute_result"
    }
   ],
   "source": [
    "# Lower and upper bounds\n",
    "lower        = [-30.0, -30.0]\n",
    "upper        = [30.0,  30.0]\n",
    "\n",
    "popsize      = 100\n",
    "generations  = 2000 \n",
    "\n",
    "costfn    = f\n",
    "\n",
    "# Create a crossover function\n",
    "crossfn   = CLGA.makelinearcrossover(costfn)\n",
    "\n",
    "# Create a mutation function\n",
    "mutatefn  = CLGA.makenormalmutation(1.0, 0.01) "
   ]
  },
  {
   "cell_type": "code",
   "execution_count": 27,
   "metadata": {},
   "outputs": [
    {
     "data": {
      "text/plain": [
       "100-element Vector{DivPopGa.ClusteredGa.Chromosome}:\n",
       " DivPopGa.ClusteredGa.Chromosome([3.14159265, 2.71828], 0.0, -1)\n",
       " DivPopGa.ClusteredGa.Chromosome([3.14159265, 2.71828], 0.0, -1)\n",
       " DivPopGa.ClusteredGa.Chromosome([3.14159265, 2.71828], 0.0, -1)\n",
       " DivPopGa.ClusteredGa.Chromosome([3.14159265, 2.71828], 0.0, -1)\n",
       " DivPopGa.ClusteredGa.Chromosome([3.14159265, 2.71828], 0.0, -1)\n",
       " DivPopGa.ClusteredGa.Chromosome([3.14159265, 2.71828], 0.0, -1)\n",
       " DivPopGa.ClusteredGa.Chromosome([3.14159265, 2.71828], 0.0, -1)\n",
       " DivPopGa.ClusteredGa.Chromosome([3.14159265, 2.71828], 0.0, -1)\n",
       " DivPopGa.ClusteredGa.Chromosome([3.14159265, 2.71828], 0.0, -1)\n",
       " DivPopGa.ClusteredGa.Chromosome([3.14159265, 2.71828], 0.0, -1)\n",
       " DivPopGa.ClusteredGa.Chromosome([3.14159265, 2.71828], 0.0, -1)\n",
       " DivPopGa.ClusteredGa.Chromosome([3.14159265, 2.71828], 0.0, -1)\n",
       " DivPopGa.ClusteredGa.Chromosome([3.14159265, 2.71828], 0.0, -1)\n",
       " ⋮\n",
       " DivPopGa.ClusteredGa.Chromosome([3.14159265, 2.71828], 0.0, -1)\n",
       " DivPopGa.ClusteredGa.Chromosome([3.14159265, 2.71828], 0.0, -1)\n",
       " DivPopGa.ClusteredGa.Chromosome([3.14159265, 2.71828], 0.0, -1)\n",
       " DivPopGa.ClusteredGa.Chromosome([3.14159265, 2.71828], 0.0, -1)\n",
       " DivPopGa.ClusteredGa.Chromosome([3.14159265, 2.71828], 0.0, -1)\n",
       " DivPopGa.ClusteredGa.Chromosome([3.14159265, 2.71828], 0.0, -1)\n",
       " DivPopGa.ClusteredGa.Chromosome([3.14159265, 2.71828], 0.0, -1)\n",
       " DivPopGa.ClusteredGa.Chromosome([3.14159265, 2.71828], 0.0, -1)\n",
       " DivPopGa.ClusteredGa.Chromosome([3.14159265, 2.71828], 0.0, -1)\n",
       " DivPopGa.ClusteredGa.Chromosome([3.14159265, 2.71828], 0.0, -1)\n",
       " DivPopGa.ClusteredGa.Chromosome([3.14159265, 2.71828], 0.0, -1)\n",
       " DivPopGa.ClusteredGa.Chromosome([3.14159265, 2.71828], 0.0, -1)"
      ]
     },
     "execution_count": 27,
     "metadata": {},
     "output_type": "execute_result"
    }
   ],
   "source": [
    "result_classic = CLGA.ga(\n",
    "    popsize,        # popsize\n",
    "    generations,       # generations \n",
    "    lower,      # lower bounds\n",
    "    upper,      # upper bounds\n",
    "    costfn,     # cost function\n",
    "    crossfn,    # crossover function\n",
    "    mutatefn,   # mutation function\n",
    "    CLGA.GA_TYPE_CLASSIC)"
   ]
  },
  {
   "cell_type": "code",
   "execution_count": 28,
   "metadata": {},
   "outputs": [
    {
     "data": {
      "text/plain": [
       "100-element Vector{DivPopGa.ClusteredGa.Chromosome}:\n",
       " DivPopGa.ClusteredGa.Chromosome([3.287876275214086, 2.71828], 0.14628362521408578, -1)\n",
       " DivPopGa.ClusteredGa.Chromosome([3.287876275214086, 2.71828], 0.14628362521408578, -1)\n",
       " DivPopGa.ClusteredGa.Chromosome([3.287876275214086, 2.71828], 0.14628362521408578, -1)\n",
       " DivPopGa.ClusteredGa.Chromosome([3.287876275214086, 2.71828], 0.14628362521408578, -1)\n",
       " DivPopGa.ClusteredGa.Chromosome([3.287876275214086, 2.71828], 0.14628362521408578, -1)\n",
       " DivPopGa.ClusteredGa.Chromosome([3.287876275214086, 2.71828], 0.14628362521408578, -1)\n",
       " DivPopGa.ClusteredGa.Chromosome([3.287876275214086, 2.71828], 0.14628362521408578, -1)\n",
       " DivPopGa.ClusteredGa.Chromosome([3.287876275214086, 2.71828], 0.14628362521408578, -1)\n",
       " DivPopGa.ClusteredGa.Chromosome([3.287876275214086, 2.71828], 0.14628362521408578, -1)\n",
       " DivPopGa.ClusteredGa.Chromosome([3.287876275214086, 2.71828], 0.14628362521408578, -1)\n",
       " DivPopGa.ClusteredGa.Chromosome([3.287876275214086, 2.71828], 0.14628362521408578, -1)\n",
       " DivPopGa.ClusteredGa.Chromosome([3.287876275214086, 2.71828], 0.14628362521408578, -1)\n",
       " DivPopGa.ClusteredGa.Chromosome([3.287876275214086, 2.71828], 0.14628362521408578, -1)\n",
       " ⋮\n",
       " DivPopGa.ClusteredGa.Chromosome([3.6152137561429543, 2.71828], 0.47362110614295405, -1)\n",
       " DivPopGa.ClusteredGa.Chromosome([3.6152137561429543, 2.71828], 0.47362110614295405, -1)\n",
       " DivPopGa.ClusteredGa.Chromosome([3.6152137561429543, 2.71828], 0.47362110614295405, -1)\n",
       " DivPopGa.ClusteredGa.Chromosome([3.6152137561429543, 2.71828], 0.47362110614295405, -1)\n",
       " DivPopGa.ClusteredGa.Chromosome([3.6152137561429543, 2.71828], 0.47362110614295405, -1)\n",
       " DivPopGa.ClusteredGa.Chromosome([3.6152137561429543, 2.71828], 0.47362110614295405, -1)\n",
       " DivPopGa.ClusteredGa.Chromosome([3.6152137561429543, 2.71828], 0.47362110614295405, -1)\n",
       " DivPopGa.ClusteredGa.Chromosome([3.6152137561429543, 2.71828], 0.47362110614295405, -1)\n",
       " DivPopGa.ClusteredGa.Chromosome([3.6152137561429543, 2.71828], 0.47362110614295405, -1)\n",
       " DivPopGa.ClusteredGa.Chromosome([4.027874937954843, 2.71828], 0.8862822879548431, -1)\n",
       " DivPopGa.ClusteredGa.Chromosome([4.027874937954843, 2.71828], 0.8862822879548431, -1)\n",
       " DivPopGa.ClusteredGa.Chromosome([4.027874937954843, 2.71828], 0.8862822879548431, -1)"
      ]
     },
     "execution_count": 28,
     "metadata": {},
     "output_type": "execute_result"
    }
   ],
   "source": [
    "result_kmeans = CLGA.ga(\n",
    "    popsize,        # popsize\n",
    "    generations,       # generations \n",
    "    lower,      # lower bounds\n",
    "    upper,      # upper bounds\n",
    "    costfn,     # cost function\n",
    "    crossfn,    # crossover function\n",
    "    mutatefn,   # mutation function\n",
    "    CLGA.GA_TYPE_CLUSTER)"
   ]
  },
  {
   "cell_type": "code",
   "execution_count": 29,
   "metadata": {},
   "outputs": [
    {
     "data": {
      "text/plain": [
       "100-element Vector{DivPopGa.ClusteredGa.Chromosome}:\n",
       " DivPopGa.ClusteredGa.Chromosome([3.1416848417619723, 2.718208043266547], 0.00016414849542512044, -1)\n",
       " DivPopGa.ClusteredGa.Chromosome([3.142052321156406, 2.7184364332262487], 0.0006161043826544699, -1)\n",
       " DivPopGa.ClusteredGa.Chromosome([3.1409467032480944, 2.7183364487147816], 0.0007023954666873777, -1)\n",
       " DivPopGa.ClusteredGa.Chromosome([3.1424954908410334, 2.7182658952890897], 0.0009169455519435488, -1)\n",
       " DivPopGa.ClusteredGa.Chromosome([3.142163546436389, 2.71882541931587], 0.0011163157522586786, -1)\n",
       " DivPopGa.ClusteredGa.Chromosome([3.142668004343822, 2.7181600712978025], 0.0011952830460195685, -1)\n",
       " DivPopGa.ClusteredGa.Chromosome([3.140395453588437, 2.7183358358016836], 0.0012530322132469074, -1)\n",
       " DivPopGa.ClusteredGa.Chromosome([3.14022835427344, 2.7182257369729856], 0.0014185587535746613, -1)\n",
       " DivPopGa.ClusteredGa.Chromosome([3.1431477067544464, 2.718533983091668], 0.0018090398461141355, -1)\n",
       " DivPopGa.ClusteredGa.Chromosome([3.143855272729055, 2.718146762987751], 0.002395859741303852, -1)\n",
       " DivPopGa.ClusteredGa.Chromosome([3.139072728317676, 2.7182503219842715], 0.0025495996980526847, -1)\n",
       " DivPopGa.ClusteredGa.Chromosome([3.139183049856351, 2.718080755336937], 0.002608844806712085, -1)\n",
       " DivPopGa.ClusteredGa.Chromosome([3.1446186148272997, 2.7182039360927317], 0.0031020287345677744, -1)\n",
       " ⋮\n",
       " DivPopGa.ClusteredGa.Chromosome([2.9154016242439704, 2.7179979959584535], 0.22647302979757633, -1)\n",
       " DivPopGa.ClusteredGa.Chromosome([2.9151305657037634, 2.7178363924614315], 0.22690569183480536, -1)\n",
       " DivPopGa.ClusteredGa.Chromosome([2.9146478377318017, 2.7184164569224594], 0.22708126919065785, -1)\n",
       " DivPopGa.ClusteredGa.Chromosome([2.9139899815663384, 2.7182400314496373], 0.22764263698402454, -1)\n",
       " DivPopGa.ClusteredGa.Chromosome([3.369312213811754, 2.7184635721546657], 0.22790313596641942, -1)\n",
       " DivPopGa.ClusteredGa.Chromosome([3.3697270648360798, 2.71809365729211], 0.2283207575439694, -1)\n",
       " DivPopGa.ClusteredGa.Chromosome([2.9133554604683853, 2.7185613126621666], 0.22851850219378145, -1)\n",
       " DivPopGa.ClusteredGa.Chromosome([3.374898778636756, 2.7183510626258323], 0.23337719126258794, -1)\n",
       " DivPopGa.ClusteredGa.Chromosome([2.4401623409610522, 2.718693747697329], 0.7018440567362769, -1)\n",
       " DivPopGa.ClusteredGa.Chromosome([3.846673128933946, 2.7181967837930596], 0.7051636951408864, -1)\n",
       " DivPopGa.ClusteredGa.Chromosome([3.8486141792023645, 2.718445809953408], 0.7071873391557721, -1)\n",
       " DivPopGa.ClusteredGa.Chromosome([2.4351207506843746, 2.7172544287463323], 0.7074974705692934, -1)"
      ]
     },
     "execution_count": 29,
     "metadata": {},
     "output_type": "execute_result"
    }
   ],
   "source": [
    "result_kmeanssim = CLGA.ga(\n",
    "    popsize,        # popsize\n",
    "    generations,       # generations \n",
    "    lower,      # lower bounds\n",
    "    upper,      # upper bounds\n",
    "    costfn,     # cost function\n",
    "    crossfn,    # crossover function\n",
    "    mutatefn,   # mutation function\n",
    "    CLGA.GA_TYPE_CLUSTER_SIM)"
   ]
  },
  {
   "cell_type": "code",
   "execution_count": null,
   "metadata": {},
   "outputs": [],
   "source": []
  }
 ],
 "metadata": {
  "kernelspec": {
   "display_name": "Julia 1.6.3",
   "language": "julia",
   "name": "julia-1.6"
  },
  "language_info": {
   "file_extension": ".jl",
   "mimetype": "application/julia",
   "name": "julia",
   "version": "1.6.3"
  }
 },
 "nbformat": 4,
 "nbformat_minor": 4
}
