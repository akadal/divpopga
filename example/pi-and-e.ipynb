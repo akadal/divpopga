{
 "cells": [
  {
   "cell_type": "code",
   "execution_count": 8,
   "metadata": {},
   "outputs": [],
   "source": [
    "import DivPopGa.ClusteredGa as CLGA"
   ]
  },
  {
   "cell_type": "markdown",
   "metadata": {},
   "source": [
    "$$\n",
    "\\min \\lvert x_1 - \\pi \\rvert + \\lvert x_2 - \\exp(1) \\rvert\n",
    "$$"
   ]
  },
  {
   "cell_type": "code",
   "execution_count": 9,
   "metadata": {},
   "outputs": [
    {
     "data": {
      "text/plain": [
       "f (generic function with 1 method)"
      ]
     },
     "execution_count": 9,
     "metadata": {},
     "output_type": "execute_result"
    }
   ],
   "source": [
    "# Minimization of two variable function\n",
    "# f(x, y) = |x - pi| + |y - exp(1)|\n",
    "function f(values::Array{Float64, 1})::Float64\n",
    "    return abs(values[1] - 3.14159265) + abs(values[2] - 2.71828)\n",
    "end"
   ]
  },
  {
   "cell_type": "code",
   "execution_count": 10,
   "metadata": {},
   "outputs": [
    {
     "data": {
      "text/plain": [
       "chichinadze (generic function with 1 method)"
      ]
     },
     "execution_count": 10,
     "metadata": {},
     "output_type": "execute_result"
    }
   ],
   "source": [
    "function chichinadze(x::Array{Float64, 1})::Float64\n",
    "    x[1] * x[1] - 12.0 * x[1] + 11.0 + 10.0 * cos(0.5 * pi * x[1]) + 8.0 * sin(2.0 * pi * x[1]) - 0.2 * sqrt(5) / exp(0.5 * (x[2] - 0.5)^2.0)  \n",
    "end"
   ]
  },
  {
   "cell_type": "code",
   "execution_count": 11,
   "metadata": {},
   "outputs": [
    {
     "data": {
      "text/plain": [
       "(::DivPopGa.ClusteredGa.var\"#tmpfn#5\"{Float64, Float64}) (generic function with 1 method)"
      ]
     },
     "execution_count": 11,
     "metadata": {},
     "output_type": "execute_result"
    }
   ],
   "source": [
    "# Lower and upper bounds\n",
    "lower        = [-100.0, -100.0]\n",
    "upper        = [100.0,  100.0]\n",
    "\n",
    "popsize      = 100\n",
    "generations  = 2000 \n",
    "num_elitists = 2\n",
    "\n",
    "costfn    = f\n",
    "\n",
    "# Create a crossover function\n",
    "crossfn   = CLGA.makelinearcrossover(costfn)\n",
    "\n",
    "# Create a mutation function\n",
    "mutatefn  = CLGA.makenormalmutation(1.0, 0.01) "
   ]
  },
  {
   "cell_type": "code",
   "execution_count": 12,
   "metadata": {},
   "outputs": [
    {
     "name": "stdout",
     "output_type": "stream",
     "text": [
      "DivPopGa.ClusteredGa.Chromosome([3.14159265, 2.71828], 0.0, -1)"
     ]
    }
   ],
   "source": [
    "result_classic = CLGA.ga(\n",
    "    popsize,        # popsize\n",
    "    generations,       # generations \n",
    "    lower,      # lower bounds\n",
    "    upper,      # upper bounds\n",
    "    costfn,     # cost function\n",
    "    crossfn,    # crossover function\n",
    "    mutatefn,   # mutation function\n",
    "    CLGA.GA_TYPE_CLASSIC, \n",
    "    elitism = num_elitists)\n",
    "\n",
    "print(result_classic[1])"
   ]
  },
  {
   "cell_type": "code",
   "execution_count": 13,
   "metadata": {},
   "outputs": [
    {
     "name": "stdout",
     "output_type": "stream",
     "text": [
      "DivPopGa.ClusteredGa.Chromosome([3.14159265, 2.71828], 0.0, 1)"
     ]
    }
   ],
   "source": [
    "result_kmeans = CLGA.ga(\n",
    "    popsize,        # popsize\n",
    "    generations,       # generations \n",
    "    lower,      # lower bounds\n",
    "    upper,      # upper bounds\n",
    "    costfn,     # cost function\n",
    "    crossfn,    # crossover function\n",
    "    mutatefn,   # mutation function\n",
    "    CLGA.GA_TYPE_CLUSTER, \n",
    "    elitism = num_elitists);\n",
    "\n",
    "print(result_kmeans[1])"
   ]
  },
  {
   "cell_type": "code",
   "execution_count": 14,
   "metadata": {},
   "outputs": [
    {
     "name": "stdout",
     "output_type": "stream",
     "text": [
      "DivPopGa.ClusteredGa.Chromosome([3.141591974596306, 2.7182800955014184], 7.709051126347788e-7, -1)"
     ]
    }
   ],
   "source": [
    "result_kmeanssim = CLGA.ga(\n",
    "    popsize,        # popsize\n",
    "    generations,       # generations \n",
    "    lower,      # lower bounds\n",
    "    upper,      # upper bounds\n",
    "    costfn,     # cost function\n",
    "    crossfn,    # crossover function\n",
    "    mutatefn,   # mutation function\n",
    "    CLGA.GA_TYPE_CLUSTER_SIM, \n",
    "    elitism = num_elitists);\n",
    "\n",
    "print(result_kmeanssim[1])"
   ]
  },
  {
   "cell_type": "code",
   "execution_count": null,
   "metadata": {},
   "outputs": [],
   "source": []
  }
 ],
 "metadata": {
  "kernelspec": {
   "display_name": "Julia 1.6.3",
   "language": "julia",
   "name": "julia-1.6"
  },
  "language_info": {
   "file_extension": ".jl",
   "mimetype": "application/julia",
   "name": "julia",
   "version": "1.6.3"
  }
 },
 "nbformat": 4,
 "nbformat_minor": 4
}
