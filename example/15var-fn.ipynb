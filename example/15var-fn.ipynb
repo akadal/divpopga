{
 "cells": [
  {
   "cell_type": "code",
   "execution_count": 72,
   "metadata": {},
   "outputs": [],
   "source": [
    "import DivPopGa.ClusteredGa as CLGA"
   ]
  },
  {
   "cell_type": "markdown",
   "metadata": {},
   "source": [
    "$$ \n",
    "\\min \\sum_{i=1}^{15} \\lvert x_i - 3.14159265 \\rvert \\;\\; \\text{where} \\; -30 \\le x_i \\le 30\n",
    "$$"
   ]
  },
  {
   "cell_type": "code",
   "execution_count": 73,
   "metadata": {},
   "outputs": [
    {
     "data": {
      "text/plain": [
       "f15 (generic function with 1 method)"
      ]
     },
     "execution_count": 73,
     "metadata": {},
     "output_type": "execute_result"
    }
   ],
   "source": [
    "function f15(values::Array{Float64, 1})::Float64\n",
    "    sm::Float64 = 0.0\n",
    "    for i in 1:length(values)\n",
    "        sm += abs(values[i] - pi)\n",
    "    end    \n",
    "    return sm\n",
    "end"
   ]
  },
  {
   "cell_type": "code",
   "execution_count": 74,
   "metadata": {},
   "outputs": [
    {
     "data": {
      "text/plain": [
       "(::DivPopGa.ClusteredGa.var\"#tmpfn#3\"{Float64, Float64}) (generic function with 1 method)"
      ]
     },
     "execution_count": 74,
     "metadata": {},
     "output_type": "execute_result"
    }
   ],
   "source": [
    "# Lower and upper bounds\n",
    "lower        = ones(Float64, 15) * (-30)\n",
    "upper        = ones(Float64, 15) * (+30)\n",
    "\n",
    "popsize      = 200\n",
    "generations  = 5000 \n",
    "num_elitists = 2\n",
    "\n",
    "costfn    = f15\n",
    "\n",
    "# Create a crossover function\n",
    "crossfn   = CLGA.makelinearcrossover(costfn)\n",
    "\n",
    "# Create a mutation function\n",
    "# mutafn = CLGA.makerandommutation(lower, upper, prob)\n",
    "# mutafn = CLGA.makenormalmutation(stdev, prob)\n",
    "mutatefn  = CLGA.makenormalmutation(3.0, 0.01) "
   ]
  },
  {
   "cell_type": "code",
   "execution_count": 75,
   "metadata": {},
   "outputs": [
    {
     "name": "stdout",
     "output_type": "stream",
     "text": [
      "DivPopGa.ClusteredGa.Chromosome([3.141175401575831, 3.142664669196309, 3.141225294951718, 2.4511188542485876, 2.406605927178877, 3.186794645180924, 2.8403908051633158, 2.7543501895067966, 2.8915266999632605, 4.870465379157749, 3.8499886641230017, 3.159148474858884, 3.144619082496652, 3.1416086995809005, 3.139699215678758], 4.8707898799170675, -1)"
     ]
    }
   ],
   "source": [
    "result_classic = CLGA.ga(\n",
    "    popsize,        # popsize\n",
    "    generations,       # generations \n",
    "    lower,      # lower bounds\n",
    "    upper,      # upper bounds\n",
    "    costfn,     # cost function\n",
    "    crossfn,    # crossover function\n",
    "    mutatefn,   # mutation function\n",
    "    CLGA.GA_TYPE_CLASSIC, \n",
    "    elitism = num_elitists)\n",
    "\n",
    "print(result_classic[1])"
   ]
  },
  {
   "cell_type": "code",
   "execution_count": 76,
   "metadata": {},
   "outputs": [
    {
     "name": "stdout",
     "output_type": "stream",
     "text": [
      "DivPopGa.ClusteredGa.Chromosome([3.14183232131556, 3.5004902144061854, 2.9504981197734494, 3.1402333652207903, 3.1449218253624434, 1.6810203157707249, 1.691479500303457, 2.893395373758131, 3.1401029003287997, 3.1416102538577313, 2.7554176642083403, 1.1588522942785966, 2.9997403961733724, 2.9716702488796622, 1.224726776274653], 8.312866235100493, -1)"
     ]
    }
   ],
   "source": [
    "result_kmeans = CLGA.ga(\n",
    "    popsize,        # popsize\n",
    "    generations,       # generations \n",
    "    lower,      # lower bounds\n",
    "    upper,      # upper bounds\n",
    "    costfn,     # cost function\n",
    "    crossfn,    # crossover function\n",
    "    mutatefn,   # mutation function\n",
    "    CLGA.GA_TYPE_CLUSTER, \n",
    "    elitism = num_elitists);\n",
    "\n",
    "print(result_kmeans[1])"
   ]
  },
  {
   "cell_type": "code",
   "execution_count": 77,
   "metadata": {},
   "outputs": [
    {
     "name": "stdout",
     "output_type": "stream",
     "text": [
      "DivPopGa.ClusteredGa.Chromosome([3.141550865288364, 3.1419337733354267, 2.659664290869108, 3.169703560000559, 3.1416486638295797, 3.1413257045115697, 1.8520690879156492, 3.2625860494887067, 3.138575811481798, 2.9761826911495572, 3.142880073349283, 3.0990241310091253, 3.141640384990844, 2.6123609836470947, 3.1415634120594493], 2.6628534878320624, -1)"
     ]
    }
   ],
   "source": [
    "result_kmeanssim = CLGA.ga(\n",
    "    popsize,        # popsize\n",
    "    generations,       # generations \n",
    "    lower,      # lower bounds\n",
    "    upper,      # upper bounds\n",
    "    costfn,     # cost function\n",
    "    crossfn,    # crossover function\n",
    "    mutatefn,   # mutation function\n",
    "    CLGA.GA_TYPE_CLUSTER_SIM, \n",
    "    elitism = num_elitists);\n",
    "\n",
    "print(result_kmeanssim[1])"
   ]
  },
  {
   "cell_type": "markdown",
   "metadata": {},
   "source": [
    "# First with kmeans, then with classic (Hybrid)"
   ]
  },
  {
   "cell_type": "code",
   "execution_count": 78,
   "metadata": {},
   "outputs": [
    {
     "name": "stdout",
     "output_type": "stream",
     "text": [
      "DivPopGa.ClusteredGa.Chromosome([3.1415428498092286, 3.14173936891147, 2.6640285378997253, 3.1703639838414555, 3.1416254034676747, 3.1415555735165595, 1.8486509726108058, 3.2598136903619714, 3.1381223375229097, 2.9735274985488496, 3.141598062593406, 3.0982311259982955, 3.1415925091683436, 2.611725972135054, 3.1415637778854717], 2.6625626220297, -1)"
     ]
    }
   ],
   "source": [
    "pop = result_kmeanssim\n",
    "finetuning_mutatefn = CLGA.makenormalmutation(2.0, 0.05)\n",
    "for i in 1:1500\n",
    "    pop = CLGA.generation(pop, costfn, crossfn, finetuning_mutatefn, CLGA.GA_TYPE_CLASSIC, elitism = num_elitists)\n",
    "end\n",
    "pop = sort(pop, by = ch -> ch.cost)\n",
    "print(pop[1])"
   ]
  },
  {
   "cell_type": "code",
   "execution_count": null,
   "metadata": {},
   "outputs": [],
   "source": []
  }
 ],
 "metadata": {
  "kernelspec": {
   "display_name": "Julia 1.6.3",
   "language": "julia",
   "name": "julia-1.6"
  },
  "language_info": {
   "file_extension": ".jl",
   "mimetype": "application/julia",
   "name": "julia",
   "version": "1.6.3"
  }
 },
 "nbformat": 4,
 "nbformat_minor": 4
}
